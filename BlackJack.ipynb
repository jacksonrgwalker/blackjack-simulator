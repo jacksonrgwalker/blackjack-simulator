{
 "cells": [
  {
   "cell_type": "code",
   "execution_count": 3,
   "metadata": {},
   "outputs": [],
   "source": [
    "from blackjack import Player, Dealer, Table, Game, DealerStrat"
   ]
  },
  {
   "cell_type": "code",
   "execution_count": 6,
   "metadata": {
    "collapsed": true,
    "jupyter": {
     "outputs_hidden": true
    }
   },
   "outputs": [
    {
     "name": "stdout",
     "output_type": "stream",
     "text": [
      "〔~Dealer~〕⎡A♥︎ / J♠︎⎦🔵    \t〔  Jack  〕⎡Q♦︎ / 9♦︎⎦🔵    \t〔  Zack  〕⎡9♦︎ / 4♦︎ / 10♣︎⎦❌\t〔  Cody  〕⎡5♥︎ / 8♣︎ / J♣︎⎦❌                                                                                                                                                                                                                                                                                                                                                                                                                                                                                                                                                                                                                                                                                                                                                                                                                                                                                                                                                                                                                                        \n",
      "Round Complete |  Winner(s):   |  Draws:  |  Losers: Cody, Jack, Zack\n",
      "\n",
      "\n",
      "〔~Dealer~〕⎡K♠︎ / J♥︎⎦🔵    \t〔  Jack  〕⎡5♣︎ / 9♥︎ / 9♦︎⎦❌\t〔  Zack  〕⎡10♣︎ / 7♥︎ / K♠︎⎦❌\t〔  Cody  〕⎡6♥︎ / Q♥︎ / 5♦︎⎦🔵                                                                                                                                                                                                                                                                                                                                                                                                                                                                                                                                                                                                                                                                                                                                                                                                                                                                                                                                                                                                                                        \n",
      "Round Complete |  Winner(s): Cody  |  Draws:  |  Losers: Jack, Zack\n",
      "\n",
      "\n",
      "〔~Dealer~〕⎡K♥︎ / 4♦︎ / 4♥︎⎦🔵\t〔  Jack  〕⎡2♦︎ / 4♠︎ / 2♦︎ / 2♣︎ / K♦︎⎦🔵\t〔  Zack  〕⎡4♠︎ / Q♦︎ / A♣︎ / 4♥︎⎦🔵\t〔  Cody  〕⎡Q♣︎ / K♦︎⎦🔵                                                                                                                                                                                                                                                                                                                                                                                                                                                                                                                                                                                                                                                                                                                                                                                                                                                                                                                                                                                                                                            \n",
      "Round Complete |  Winner(s): Cody, Jack, Zack  |  Draws:  |  Losers: \n",
      "\n",
      "\n",
      "〔~Dealer~〕⎡A♥︎ / 3♥︎ / 10♥︎ / 8♦︎⎦❌\t〔  Jack  〕⎡7♠︎ / 8♣︎ / Q♠︎⎦❌\t〔  Zack  〕⎡8♦︎ / 9♦︎ / 4♥︎⎦🔵\t〔  Cody  〕⎡5♠︎ / 3♠︎ / 8♣︎ / J♦︎⎦❌                                                                                                                                                                                                                                                                                                                                                                                                                                                                                                                                                                                                                                                                                                                                                                                                                                                                                                                                                                                                                                          \n",
      "Round Complete |  Winner(s): Zack  |  Draws:  |  Losers: Cody, Jack\n",
      "\n",
      "\n",
      "〔~Dealer~〕⎡7♠︎ / 2♣︎ / K♣︎⎦🔵\t〔  Jack  〕⎡9♣︎ / 3♠︎ / 10♠︎⎦❌\t〔  Zack  〕⎡K♣︎ / K♣︎⎦🔵    \t〔  Cody  〕⎡6♠︎ / A♠︎⎦🔵                                                                                                                                                                                                                                                                                                                                                                                                                                                                                                                                                                                                                                                                                                                                                                                                                                                                                                                                                                                                                                                         \n",
      "Round Complete |  Winner(s): Zack  |  Draws:  |  Losers: Cody, Jack\n",
      "\n",
      "\n",
      "Number of rounds simulated:          5\n",
      "Jack | Win Rate: 0.2000 | Draw Rate: 0.0000\n",
      "Zack | Win Rate: 0.6000 | Draw Rate: 0.0000\n",
      "Cody | Win Rate: 0.4000 | Draw Rate: 0.0000\n"
     ]
    }
   ],
   "source": [
    "jack = Player(strategy = DealerStrat(max_hit_value=18), name='Jack')\n",
    "zack = Player(strategy = DealerStrat(max_hit_value=17), name='Zack')\n",
    "cody = Player(strategy = DealerStrat(max_hit_value=16), name='Cody')\n",
    "dealer=Dealer(strategy = DealerStrat(max_hit_value=16))\n",
    "big_table = Table(dealer, players=[jack,zack,cody])\n",
    "game = Game(table=big_table)\n",
    "game.simulate_rounds(5, verbose=True, delay=1)\n",
    "game.summary()"
   ]
  },
  {
   "cell_type": "code",
   "execution_count": 74,
   "metadata": {},
   "outputs": [
    {
     "name": "stdout",
     "output_type": "stream",
     "text": [
      "Number of rounds simulated:     50,000\n",
      "Max Hit on 9 | Win Rate: 0.3866 | Draw Rate: 0.0595\n",
      "Max Hit on 10 | Win Rate: 0.3980 | Draw Rate: 0.0632\n",
      "Max Hit on 11 | Win Rate: 0.4108 | Draw Rate: 0.0694\n",
      "Max Hit on 12 | Win Rate: 0.4150 | Draw Rate: 0.0728\n",
      "Max Hit on 13 | Win Rate: 0.4174 | Draw Rate: 0.0820\n",
      "Max Hit on 14 | Win Rate: 0.4172 | Draw Rate: 0.0875\n",
      "Max Hit on 15 | Win Rate: 0.4101 | Draw Rate: 0.0985\n",
      "Max Hit on 16 | Win Rate: 0.4064 | Draw Rate: 0.1041\n",
      "Max Hit on 17 | Win Rate: 0.3993 | Draw Rate: 0.0896\n",
      "Max Hit on 18 | Win Rate: 0.3611 | Draw Rate: 0.0759\n",
      "Max Hit on 19 | Win Rate: 0.2931 | Draw Rate: 0.0596\n",
      "Max Hit on 20 | Win Rate: 0.1541 | Draw Rate: 0.0226\n"
     ]
    }
   ],
   "source": [
    "players = [Player(strategy = DealerStrat(max_hit_value=i), name=f'Max Hit on {i}') for i in range(9,21)]\n",
    "dealer=Dealer(strategy = DealerStrat(max_hit_value=16))\n",
    "big_table = Table(dealer, players=players)\n",
    "game = Game(table=big_table, min_cards_to_reshuffle=50)\n",
    "game.simulate_rounds(50_000, verbose=False, delay=0)\n",
    "game.summary()"
   ]
  },
  {
   "cell_type": "code",
   "execution_count": 75,
   "metadata": {},
   "outputs": [],
   "source": [
    "import pandas as pd"
   ]
  },
  {
   "cell_type": "code",
   "execution_count": 76,
   "metadata": {},
   "outputs": [],
   "source": [
    "res = pd.DataFrame(game.summary_data).T"
   ]
  },
  {
   "cell_type": "code",
   "execution_count": 79,
   "metadata": {},
   "outputs": [
    {
     "data": {
      "image/png": "[encoded data removed]",
      "text/plain": [
       "<Figure size 1080x720 with 1 Axes>"
      ]
     },
     "metadata": {
      "needs_background": "light"
     },
     "output_type": "display_data"
    }
   ],
   "source": [
    "res.plot.bar(figsize=(15,10), stacked=True);"
   ]
  },
  {
   "cell_type": "code",
   "execution_count": null,
   "metadata": {},
   "outputs": [],
   "source": []
  }
 ],
 "metadata": {
  "kernelspec": {
   "display_name": "Python 3",
   "language": "python",
   "name": "python3"
  },
  "language_info": {
   "codemirror_mode": {
    "name": "ipython",
    "version": 3
   },
   "file_extension": ".py",
   "mimetype": "text/x-python",
   "name": "python",
   "nbconvert_exporter": "python",
   "pygments_lexer": "ipython3",
   "version": "3.7.6"
  }
 },
 "nbformat": 4,
 "nbformat_minor": 4
}
